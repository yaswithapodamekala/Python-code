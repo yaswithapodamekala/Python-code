{
 "cells": [
  {
   "cell_type": "code",
   "execution_count": 1,
   "id": "31a760e0-7b57-4bda-a92e-e435df167250",
   "metadata": {},
   "outputs": [
    {
     "name": "stdout",
     "output_type": "stream",
     "text": [
      "enter the password fwrakuyhgy v hb\n"
     ]
    },
    {
     "name": "stdout",
     "output_type": "stream",
     "text": [
      "Bad password\n"
     ]
    }
   ],
   "source": [
    "#password\n",
    "n=input(\"enter the password\")\n",
    "dig=0\n",
    "sum=0\n",
    "up=0\n",
    "sp=0\n",
    "if(len(n)>7):\n",
    "    for i in n:\n",
    "        if(i.isupper()):\n",
    "            up+=1\n",
    "        elif(i.islower()):\n",
    "            sum+=1\n",
    "        elif(i.isdigit()):\n",
    "            dig+=1\n",
    "        else:\n",
    "            sp+=1\n",
    "    if(up>0 and sum>0 and dig>0 and sp>0):\n",
    "        print(\"Good password\")\n",
    "    else:\n",
    "        print(\"Bad password\")\n"
   ]
  },
  {
   "cell_type": "code",
   "execution_count": 3,
   "id": "cb1cf19a-7ba1-4344-ac1f-a520bc0cfda5",
   "metadata": {},
   "outputs": [
    {
     "name": "stdout",
     "output_type": "stream",
     "text": [
      "[1, 2, 3, 4, 8, 6, 9, 5, 4, 8, 6, 3, 7, 4, 5, 6, 5, 3, 9, 8]\n"
     ]
    }
   ],
   "source": [
    "#spiral order:\n",
    "def spiralOrder(val):\n",
    "    result = []\n",
    "    if not val:\n",
    "        return result\n",
    "    top,bottom = 0, len(val) - 1\n",
    "    left,right = 0, len(val[0]) - 1\n",
    "    while top<= bottom and left <= right:\n",
    "        for i in range(left, right+1):\n",
    "            result.append(val[top][i])\n",
    "        top+= 1\n",
    "        for i in range(top, bottom+1):\n",
    "            result.append(val[i][right])\n",
    "        right-= 1\n",
    "        if top<=bottom:\n",
    "            for i in range(right, left-1, -1):\n",
    "                result.append(val[bottom][i])\n",
    "            bottom -= 1\n",
    "        if left<= right:\n",
    "            for i in range(bottom, top-1, -1):\n",
    "                result.append(val[i][left])\n",
    "            left+= 1\n",
    "    return result\n",
    "matrix = [\n",
    "    [1, 2, 3 ,4 ,8],\n",
    "    [4, 5, 6, 5, 6],\n",
    "    [7, 8, 9,3,9],\n",
    "    [3,6,8,4,5]\n",
    "]\n",
    "\n",
    "print(spiralOrder(matrix))\n"
   ]
  },
  {
   "cell_type": "code",
   "execution_count": 1,
   "id": "b4e9b494-0360-4b5e-b8af-50977e96e0d8",
   "metadata": {},
   "outputs": [
    {
     "name": "stdout",
     "output_type": "stream",
     "text": [
      "3-digit prime numbers:\n",
      "[2, 3, 5, 7, 11, 13, 17, 19, 23, 29, 31, 37, 41, 43, 47]\n"
     ]
    }
   ],
   "source": [
    "#three digit prime numbers\n",
    "def is_prime(n):\n",
    "    if n < 2:\n",
    "        return False\n",
    "    for i in range(2,int(n**0.5)+1):\n",
    "        if n % i == 0:\n",
    "            return False\n",
    "    return True\n",
    "three_digit_primes = []\n",
    "for num in range(50):\n",
    "    if is_prime(num):\n",
    "        three_digit_primes.append(num)\n",
    "print(\"3-digit prime numbers:\")\n",
    "print(three_digit_primes)\n"
   ]
  },
  {
   "cell_type": "code",
   "execution_count": 6,
   "id": "f3bc3637-85b4-4e45-9e2b-ed0e43c4193a",
   "metadata": {},
   "outputs": [
    {
     "name": "stdout",
     "output_type": "stream",
     "text": [
      "GCD of 24 and 36 is 12\n",
      "LCM of 24 and 36 is 72\n"
     ]
    }
   ],
   "source": [
    "#GCD\n",
    "def compute_gcd(x, y):\n",
    "    while y:\n",
    "        x, y = y,x % y\n",
    "    return x\n",
    "def compute_lcm(x, y):\n",
    "    return abs(x * y) // compute_gcd(x, y)\n",
    "a = 24\n",
    "b = 36\n",
    "gcd = compute_gcd(a, b)\n",
    "lcm = compute_lcm(a, b)\n",
    "print(f\"GCD of {a} and {b} is {gcd}\")\n",
    "print(f\"LCM of {a} and {b} is {lcm}\")\n"
   ]
  },
  {
   "cell_type": "code",
   "execution_count": 3,
   "id": "7cb0f94c-4bea-4cab-85f9-049405d4c8a3",
   "metadata": {},
   "outputs": [
    {
     "name": "stdout",
     "output_type": "stream",
     "text": [
      "enter the prime number 50\n"
     ]
    },
    {
     "name": "stdout",
     "output_type": "stream",
     "text": [
      "[2, 5, 5]\n"
     ]
    }
   ],
   "source": [
    "#prime numbers:\n",
    "def prime(n):\n",
    "    if n==1:\n",
    "        return []\n",
    "    for i in range(2,n+1):\n",
    "        if n%i==0:\n",
    "            return [i]+prime(n//i)\n",
    "n=int(input(\"enter the prime number\"))\n",
    "print(prime(n))\n",
    "\n",
    "        "
   ]
  },
  {
   "cell_type": "code",
   "execution_count": 23,
   "id": "1c2b8911-21f5-41d5-9a2d-bdcd2b93d791",
   "metadata": {},
   "outputs": [
    {
     "name": "stdout",
     "output_type": "stream",
     "text": [
      "enter the first name1 raju\n",
      "enter the second name2 pavi\n"
     ]
    },
    {
     "name": "stdout",
     "output_type": "stream",
     "text": [
      "['r', '2', 'j', 'u']\n",
      "['p', '2', 'v', 'i']\n",
      "3\n",
      "3\n",
      "['F']\n"
     ]
    }
   ],
   "source": [
    "#flames:\n",
    "name1=input(\"enter the first name1\")\n",
    "name2=input(\"enter the second name2\")\n",
    "l1=list(name1)\n",
    "l2=list(name2)\n",
    "for i in range(len(l1)):\n",
    "    for j in range(len(l2)):\n",
    "        if l1[i]==l2[j]:\n",
    "            l1[i]='2'\n",
    "            l2[j]='2'\n",
    "print(l1)\n",
    "print(l2)\n",
    "x=sum(1 for i in l1 if i!='2')\n",
    "y=sum(1 for j in l2 if j!='2')\n",
    "print(x)\n",
    "print(y)\n",
    "count=x+y\n",
    "ans=['F','L','A','M','E','S']\n",
    "while(len(ans)!=1):\n",
    "    i=(i+(count-1))%len(ans)\n",
    "    ans.pop(i)\n",
    "print(ans)\n",
    "    \n",
    "    \n",
    "            "
   ]
  },
  {
   "cell_type": "code",
   "execution_count": 1,
   "id": "0ecc0cad-449d-4b7f-8a0e-8cd83c869409",
   "metadata": {},
   "outputs": [
    {
     "name": "stdout",
     "output_type": "stream",
     "text": [
      "[{'name': 'ammu', 'age': '20', 'marks': [88, 90, 45, 76]}, {'name': 'vinee', 'age': '31', 'marks': [55, 87, 65, 25]}, {'name': 'sai', 'age': '18', 'marks': [34, 68, 90, 28]}, {'name': 'yash', 'age': '23', 'marks': [45, 25, 67, 80]}]\n",
      "ammuhas score74.75%--->standsFIRST\n",
      "vineehas score58.0%--->standsSECOND\n",
      "saihas score55.0%--->standsTHIRD\n",
      "yashhas score54.25%--->standsFOURTH\n"
     ]
    }
   ],
   "source": [
    "#ranking:\n",
    "def per(person):\n",
    "    total=sum(person[\"marks\"])\n",
    "    return total/4\n",
    "\n",
    "a=[\n",
    "    {\"name\":\"yash\",\"age\":\"23\",\"marks\":[45,25,67,80]},\n",
    "    {\"name\":\"sai\",\"age\":\"18\",\"marks\":[34,68,90,28]},\n",
    "    {\"name\":\"vinee\",\"age\":\"31\",\"marks\":[55,87,65,25]},\n",
    "    {\"name\":\"ammu\",\"age\":\"20\",\"marks\":[88,90,45,76]}\n",
    "    \n",
    "    ]\n",
    "b=sorted(a,key=per,reverse=True)\n",
    "print(b)\n",
    "l=[\"FIRST\",\"SECOND\",\"THIRD\",\"FOURTH\"]\n",
    "pos=0\n",
    "for i in b:\n",
    "    print(\"{}has score{}%--->stands{}\".format(i[\"name\"],per(i),l[pos]))\n",
    "    pos+=1\n"
   ]
  },
  {
   "cell_type": "code",
   "execution_count": 41,
   "id": "ac822fdc-d974-47bb-aa65-28cc4219a8bf",
   "metadata": {},
   "outputs": [
    {
     "name": "stdout",
     "output_type": "stream",
     "text": [
      "enter the number 10\n"
     ]
    },
    {
     "name": "stdout",
     "output_type": "stream",
     "text": [
      "1\n",
      "3 x 2\n",
      "4 x 5 x 6\n",
      "10 x 9 x 8 x 7\n",
      "11 x 12 x 13 x 14 x 15\n",
      "21 x 20 x 19 x 18 x 17 x 16\n",
      "22 x 23 x 24 x 25 x 26 x 27 x 28\n",
      "36 x 35 x 34 x 33 x 32 x 31 x 30 x 29\n",
      "37 x 38 x 39 x 40 x 41 x 42 x 43 x 44 x 45\n",
      "55 x 54 x 53 x 52 x 51 x 50 x 49 x 48 x 47 x 46\n",
      "None\n"
     ]
    }
   ],
   "source": [
    "#2d pattern\n",
    "def pattern(n):\n",
    "    num = 1\n",
    "    for i in range(1, n + 1):\n",
    "        line = []\n",
    "        for x in range(i):\n",
    "            line.append(num)\n",
    "            num += 1\n",
    "        if i % 2 == 0:\n",
    "            line.reverse()\n",
    "        print(\" x \".join(str(x) for x in line))\n",
    "\n",
    "n=int(input(\"enter the number\"))\n",
    "print(pattern(n))\n"
   ]
  }
 ],
 "metadata": {
  "kernelspec": {
   "display_name": "Python 3",
   "language": "python",
   "name": "python3"
  },
  "language_info": {
   "codemirror_mode": {
    "name": "ipython",
    "version": 3
   },
   "file_extension": ".py",
   "mimetype": "text/x-python",
   "name": "python",
   "nbconvert_exporter": "python",
   "pygments_lexer": "ipython3",
   "version": "3.13.3"
  }
 },
 "nbformat": 4,
 "nbformat_minor": 5
}
