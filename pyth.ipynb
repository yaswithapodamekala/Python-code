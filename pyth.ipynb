{
 "cells": [
  {
   "cell_type": "code",
   "execution_count": 1,
   "id": "970722ab-64de-4012-8c82-ded288aaebe9",
   "metadata": {},
   "outputs": [
    {
     "name": "stdin",
     "output_type": "stream",
     "text": [
      "Enter the string:  yashwithapodamekala\n"
     ]
    },
    {
     "name": "stdout",
     "output_type": "stream",
     "text": [
      "y1a1s1h1w1i1t1h1a1p1o1d1a1m1e1k1a1l1a1\n"
     ]
    }
   ],
   "source": [
    "s = input(\"Enter the string: \")\n",
    "res = \"\"\n",
    "count = 1\n",
    "for i in range(len(s) - 1): \n",
    "    if s[i] == s[i + 1]:\n",
    "        count += 1\n",
    "    else:\n",
    "        res += s[i] + str(count)\n",
    "        count = 1\n",
    "res += s[-1] + str(count)\n",
    "print(res)\n"
   ]
  },
  {
   "cell_type": "code",
   "execution_count": 4,
   "id": "d59d73a5-8456-42b2-bd1d-128f6a344909",
   "metadata": {},
   "outputs": [
    {
     "name": "stdout",
     "output_type": "stream",
     "text": [
      "5 -> 10 -> 12 -> 15 -> None\n"
     ]
    }
   ],
   "source": [
    "class Node:\n",
    "    def __init__(self, data):\n",
    "        self.data = data\n",
    "        self.next = None\n",
    "\n",
    "class SinglyLinkedList:\n",
    "    def __init__(self):\n",
    "        self.head = None\n",
    "\n",
    "    def insert_beginning(self, data):\n",
    "        new_node = Node(data)\n",
    "        new_node.next = self.head\n",
    "        self.head = new_node\n",
    "\n",
    "    def insert_end(self, data):\n",
    "        new_node = Node(data)\n",
    "        if not self.head:\n",
    "            self.head = new_node\n",
    "            return\n",
    "        current = self.head\n",
    "        while current.next:\n",
    "            current = current.next\n",
    "        current.next = new_node\n",
    "        \n",
    "    def insert_after(self, prev_data, data):\n",
    "        current = self.head\n",
    "        while current and current.data != prev_data:\n",
    "            current = current.next\n",
    "        if current is None:\n",
    "            print(f\"Node with data {prev_data} not found.\")\n",
    "            return\n",
    "        new_node = Node(data)\n",
    "        new_node.next = current.next\n",
    "        current.next = new_node\n",
    "        \n",
    "    def insert_position(self, position, data):\n",
    "        if position == 0:\n",
    "            self.insert_at_beginning(data)\n",
    "            return\n",
    "        new_node = Node(data)\n",
    "        current = self.head\n",
    "        count = 0\n",
    "        while current and count < position - 1:\n",
    "            current = current.next\n",
    "            count += 1\n",
    "        if current is None:\n",
    "            print(\"Position out of range.\")\n",
    "            return\n",
    "        new_node.next = current.next\n",
    "        current.next = new_node\n",
    "    def display(self):\n",
    "        current = self.head\n",
    "        while current:\n",
    "            print(current.data, end=\" -> \")\n",
    "            current = current.next\n",
    "        print(\"None\")\n",
    "sll = SinglyLinkedList()\n",
    "sll.insert_end(10)\n",
    "sll.insert_beginning(5)\n",
    "sll.insert_after(10, 15)\n",
    "sll.insert_position(2, 12)\n",
    "sll.display()  \n",
    "\n"
   ]
  },
  {
   "cell_type": "code",
   "execution_count": 7,
   "id": "c29069cc-bd09-4bfa-b9a5-c1c661ca1309",
   "metadata": {},
   "outputs": [
    {
     "name": "stdout",
     "output_type": "stream",
     "text": [
      "Task\tBurst\tComplete\tTurnaround\tWaiting\n",
      "1\t10\t23\t\t23\t\t13\n",
      "2\t5\t17\t\t17\t\t12\n",
      "3\t8\t21\t\t21\t\t13\n"
     ]
    }
   ],
   "source": [
    "def round_robin(tasks, time_slice):\n",
    "    n = len(tasks)\n",
    "    remaining = tasks[:]\n",
    "    time = 0\n",
    "    completed = [0] * n\n",
    "\n",
    "    while True:\n",
    "        done = True\n",
    "        for i in range(n):\n",
    "            if remaining[i] > 0:\n",
    "                done = False\n",
    "                if remaining[i] > time_slice:\n",
    "                    time += time_slice\n",
    "                    remaining[i] -= time_slice\n",
    "                else:\n",
    "                    time += remaining[i]\n",
    "                    completed[i] = time\n",
    "                    remaining[i] = 0\n",
    "        if done:\n",
    "            break\n",
    "    print(\"Task\\tBurst\\tComplete\\tTurnaround\\tWaiting\")\n",
    "    for i in range(n):\n",
    "        turnaround = completed[i] \n",
    "        waiting = turnaround - tasks[i]\n",
    "        print(f\"{i+1}\\t{tasks[i]}\\t{completed[i]}\\t\\t{turnaround}\\t\\t{waiting}\")\n",
    "round_robin([10, 5, 8], 4)\n"
   ]
  },
  {
   "cell_type": "code",
   "execution_count": 8,
   "id": "69703f54-1873-4c5f-9757-1b44e9434ed0",
   "metadata": {},
   "outputs": [
    {
     "name": "stdin",
     "output_type": "stream",
     "text": [
      "enter the year 2024\n"
     ]
    },
    {
     "name": "stdout",
     "output_type": "stream",
     "text": [
      "True\n",
      "      May 2025\n",
      "Mo Tu We Th Fr Sa Su\n",
      "          1  2  3  4\n",
      " 5  6  7  8  9 10 11\n",
      "12 13 14 15 16 17 18\n",
      "19 20 21 22 23 24 25\n",
      "26 27 28 29 30 31\n",
      "\n"
     ]
    }
   ],
   "source": [
    "\n",
    "import calendar\n",
    "n=int(input(\"enter the year\"))\n",
    "print(calendar.isleap(n))\n",
    "print(calendar.month(2025,5))"
   ]
  },
  {
   "cell_type": "code",
   "execution_count": null,
   "id": "ce7115f8-a9c6-44cb-a421-f6b5f8f4c4ce",
   "metadata": {},
   "outputs": [],
   "source": []
  }
 ],
 "metadata": {
  "kernelspec": {
   "display_name": "Python 3 (ipykernel)",
   "language": "python",
   "name": "python3"
  },
  "language_info": {
   "codemirror_mode": {
    "name": "ipython",
    "version": 3
   },
   "file_extension": ".py",
   "mimetype": "text/x-python",
   "name": "python",
   "nbconvert_exporter": "python",
   "pygments_lexer": "ipython3",
   "version": "3.12.7"
  }
 },
 "nbformat": 4,
 "nbformat_minor": 5
}
